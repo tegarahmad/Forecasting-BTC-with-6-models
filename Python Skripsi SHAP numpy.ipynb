{
 "cells": [
  {
   "cell_type": "code",
   "execution_count": 1,
   "id": "70f90422",
   "metadata": {},
   "outputs": [
    {
     "name": "stderr",
     "output_type": "stream",
     "text": [
      "C:\\Users\\tegar\\anaconda3\\lib\\site-packages\\numpy\\_distributor_init.py:30: UserWarning: loaded more than 1 DLL from .libs:\n",
      "C:\\Users\\tegar\\anaconda3\\lib\\site-packages\\numpy\\.libs\\libopenblas.EL2C6PLE4ZYW3ECEVIV3OXXGRN2NRFM2.gfortran-win_amd64.dll\n",
      "C:\\Users\\tegar\\anaconda3\\lib\\site-packages\\numpy\\.libs\\libopenblas.WCDJNK7YVMPZQ2ME2ZZHJJRJ3JIKNDB7.gfortran-win_amd64.dll\n",
      "  warnings.warn(\"loaded more than 1 DLL from .libs:\"\n"
     ]
    }
   ],
   "source": [
    "import numpy as np\n",
    "import pandas as pd\n",
    "from sklearn.model_selection import train_test_split\n",
    "from sklearn.preprocessing import LabelBinarizer"
   ]
  },
  {
   "cell_type": "code",
   "execution_count": 2,
   "id": "919bdec3",
   "metadata": {},
   "outputs": [],
   "source": [
    "data=pd.read_csv('BTC-USD.csv')\n",
    "data = data.rename(columns={'Date': 'date','Open':'open','High':'high','Low':'low','Close':'close',\n",
    "                                'Adj Close':'adj_close','Volume':'volume'})"
   ]
  },
  {
   "cell_type": "code",
   "execution_count": 3,
   "id": "6c497a79",
   "metadata": {},
   "outputs": [],
   "source": [
    "import pandas as pd\n",
    "import matplotlib.pyplot as plt\n",
    "from sklearn.ensemble import RandomForestRegressor\n",
    "\n",
    "# Filter data\n",
    "start_date = '2015-01-01'\n",
    "end_date = '2023-12-31'\n",
    "filtered_data = data[(data['date'] >= start_date) & (data['date'] <= end_date)]\n",
    "\n",
    "# Prepare variables\n",
    "X = filtered_data[['open', 'high', 'low', 'volume']]  # Removed 'date'\n",
    "y = filtered_data['close']\n",
    "\n",
    "# Split data\n",
    "train_size = int(len(X) * 0.8)\n",
    "X_train, X_test = X[:train_size], X[train_size:]\n",
    "y_train, y_test = y[:train_size], y[train_size:]\n",
    "\n",
    "# Train model RandomForest\n",
    "randomforest_model = RandomForestRegressor()\n",
    "randomforest_model.fit(X_train, y_train)\n",
    "randomforest_predictions = randomforest_model.predict(X_test)\n"
   ]
  },
  {
   "cell_type": "code",
   "execution_count": 4,
   "id": "0f18ee2b",
   "metadata": {},
   "outputs": [
    {
     "data": {
      "text/plain": [
       "array([46459.3110158 , 45100.72156257, 43202.0681641 , 42447.28105473,\n",
       "       41463.9276954 , 41529.51000021, 40960.03621091, 42155.63800804,\n",
       "       43622.18859371, 43042.06937506, 42216.66695333, 42983.50847662,\n",
       "       42992.96140631, 42102.84503924, 41469.75136738, 41441.22972676,\n",
       "       42114.40449238, 38166.29249987, 35570.86492206, 35630.20777339,\n",
       "       35053.77306641, 36953.10527371, 37520.59882831, 36075.96976567,\n",
       "       36848.71894536, 37887.21535166, 37880.06285166, 37979.38933602,\n",
       "       38237.55609382, 37921.27621101, 36523.03371107, 40346.38339852,\n",
       "       41218.38453135, 41493.673711  , 42733.69742205, 44636.66101562,\n",
       "       44422.68828125, 44568.75457043, 42562.21441429, 42127.15468771,\n",
       "       41569.19316424, 41886.59058618, 42904.06273454, 44353.15425784,\n",
       "       42535.06125023, 40214.92511719, 39750.20671884, 38962.02531264,\n",
       "       38787.36914051, 37901.6925392 , 38153.60648441, 36399.67500018,\n",
       "       38811.45207031, 39303.41566427, 38621.28859381, 41834.32058607,\n",
       "       44777.06019523, 44447.95644535, 42585.2826174 , 40772.12781246,\n",
       "       39265.87261734, 38872.73707044, 38729.24796864, 39004.4626172 ,\n",
       "       41062.29175781, 40656.31781251, 39257.32394551, 39142.9485939 ,\n",
       "       38152.90769542, 39201.34789058, 39287.56046891, 40350.34289076,\n",
       "       40938.5516406 , 41524.16789062, 41653.19402371, 41592.26441436,\n",
       "       41006.52382813, 42646.19871103, 42062.48179707, 44003.47999996,\n",
       "       44440.81816407, 44500.76484375, 45748.89332034, 47015.08207037,\n",
       "       47282.95804686, 47206.01066409, 46381.4475392 , 45109.0701564 ,\n",
       "       45788.41527346, 46726.81292987, 45373.26476569, 45680.4767969 ,\n",
       "       44376.1036721 , 44421.07453122, 42545.34882836, 41787.1782424 ,\n",
       "       42251.21593771, 41001.42691398, 39925.54363286, 40489.70652336,\n",
       "       40420.8936718 , 40392.65703129, 40369.94230471, 39901.02515625,\n",
       "       39987.5362112 , 41005.32871094, 41249.67101569, 42060.29730469,\n",
       "       39903.66992191, 39642.22085949, 39506.2464845 , 39316.059258  ,\n",
       "       39095.45945325, 39033.78039065, 39564.90089858, 38946.91648455,\n",
       "       37954.90519541, 38060.51656259, 38048.26355479, 37937.35707038,\n",
       "       39194.42976566, 38204.09753899, 35903.14867206, 35355.82671892,\n",
       "       34504.34662124, 32959.8559963 , 31783.10214838, 30694.3058203 ,\n",
       "       28448.27156258, 29673.42011724, 29663.07046875, 30268.76892562,\n",
       "       30157.25353509, 30071.06496082, 29904.50937493, 29380.96992191,\n",
       "       29930.56884758, 29735.16277342, 29880.78484363, 29945.00564445,\n",
       "       29561.87359377, 29890.77984369, 29370.1678321 , 29308.7264844 ,\n",
       "       29187.70673832, 29571.41929689, 30918.49347654, 31481.11332056,\n",
       "       31070.08888675, 30030.78361317, 30122.45736314, 29911.14376947,\n",
       "       29920.80771478, 30861.18261715, 30758.51835932, 30347.89708969,\n",
       "       30167.79058579, 29802.12363278, 29329.51771481, 28274.56466799,\n",
       "       25650.90039059, 22976.24662102, 22468.34449208, 22649.48478517,\n",
       "       21452.3355468 , 19331.57500009, 19434.83667993, 20927.67542961,\n",
       "       21584.51037101, 20925.93568349, 20611.73437487, 21806.32175775,\n",
       "       22255.28529291, 22670.78216793, 21684.78398428, 21352.72453113,\n",
       "       19915.04523428, 19098.7308399 , 19195.83556646, 19191.30298826,\n",
       "       19330.25144549, 19327.05408211, 19941.21505853, 19905.02398432,\n",
       "       21931.13361321, 22581.7069139 , 22753.94087887, 22077.95726555,\n",
       "       20923.43984364, 19871.0027734 , 19247.23880878, 20613.47412099,\n",
       "       21512.21328118, 21582.01453116, 22016.09193352, 22679.96308596,\n",
       "       22958.01628891, 23738.34697271, 23539.49669937, 23713.90048834,\n",
       "       23220.68365249, 23349.1680081 , 23197.42933602, 22114.07945307,\n",
       "       23097.30164066, 23702.57027345, 24015.42203142, 24165.17638693,\n",
       "       23680.76933601, 23664.57654303, 23660.11976573, 23703.22351567,\n",
       "       23582.28966812, 23668.05419933, 23663.20669929, 23658.39894535,\n",
       "       23762.59070311, 23586.15748052, 23704.66908199, 24339.62916035,\n",
       "       24039.27080097, 25039.85664062, 25039.85664062, 24825.33650396,\n",
       "       24057.47771501, 23718.64685559, 23755.32234379, 23172.84568371,\n",
       "       21808.15601558, 22430.7660156 , 22326.09763669, 22326.09763669,\n",
       "       22669.67490232, 22669.67490232, 22108.14710931, 19879.1286914 ,\n",
       "       19867.95679683, 19865.73414064, 19811.36333984, 19811.36333984,\n",
       "       19879.1286914 , 19873.49861325, 19865.96925776, 19867.95679683,\n",
       "       19873.49861325, 18982.86125012, 19041.96181656, 19172.51865235,\n",
       "       20577.22111321, 22636.62623044, 22662.21857419, 22801.32230456,\n",
       "       22059.69261708, 19809.36414063, 19811.36333984, 19884.16701173,\n",
       "       19867.95679683, 19869.0175586 , 18987.9010353 , 19041.58517588,\n",
       "       19226.24160189, 18978.8303518 , 18894.19462898, 19180.29916023,\n",
       "       19029.9705861 , 18938.11177753, 19228.52236357, 19166.57224641,\n",
       "       19041.35457041, 19771.84230471, 19930.36562488, 19173.80029294,\n",
       "       19341.68638701, 19811.36333984, 19811.36333984, 19811.36333984,\n",
       "       19873.49861325, 19945.30626943, 19957.87105459, 19165.89603514,\n",
       "       19094.54562505, 19090.82150398, 18959.15908225, 19178.66552748,\n",
       "       19077.70166018, 19233.93312508, 19633.46238294, 19181.40214852,\n",
       "       19197.09917964, 19229.90847655, 18969.20171886, 19111.6841602 ,\n",
       "       19374.12664081, 19886.01310547, 19865.91912117, 20517.0160155 ,\n",
       "       21189.70779283, 20001.46259763, 21527.27621089, 21554.96107416,\n",
       "       21332.00603504, 20669.38964848, 20214.96777339, 19805.38423831,\n",
       "       20919.01191392, 22032.27626952, 22165.54970701, 21327.50498033,\n",
       "       19208.43789069, 16980.38923838, 17175.45544928, 17049.74435563,\n",
       "       17033.30076185, 16567.62082038, 16638.07847663, 16937.08656267,\n",
       "       16727.4234181 , 16650.85048838, 16932.10976576, 16870.17651381,\n",
       "       16375.85786136, 16202.47699229, 16182.47630868, 16296.18919933,\n",
       "       16647.3834962 , 16454.34453141, 16549.23712902, 16474.27802751,\n",
       "       16188.06232437, 16192.85832047, 16820.18617203, 17052.41322278,\n",
       "       17024.36171887, 17027.03345715, 17029.36406263, 17100.59056653,\n",
       "       17030.68525403, 17014.25304698, 17086.09351576, 17126.72443369,\n",
       "       17083.86033213, 17079.04585949, 17052.42933607, 17737.13105496,\n",
       "       18254.25837904, 17647.13484389, 17001.61324228, 16923.93667981,\n",
       "       16969.55927745, 16645.90759777, 16732.41953136, 16963.78796886,\n",
       "       16915.28302747, 16962.40033215, 16978.11046886, 16977.90019542,\n",
       "       16986.79708995, 16957.04187512, 16649.7373048 , 16619.26254894,\n",
       "       16554.27674816, 16537.35163099, 16537.35163099, 16884.00100599,\n",
       "       16889.12348645, 16971.22058606, 16966.92644543, 16984.21240246,\n",
       "       17022.57253918, 17066.48240245, 17129.89037119, 17139.37996099,\n",
       "       17779.94443369, 18634.3889259 , 19292.10035183, 20589.27232412,\n",
       "       21600.48736318, 21637.04699212, 22044.31525389, 21794.12560541,\n",
       "       21643.73001944, 22839.33009769, 23605.8585353 , 23349.1680081 ,\n",
       "       23664.95400399, 23592.95716812, 23371.45689472, 23661.0832227 ,\n",
       "       23656.96244149, 23661.0832227 , 23701.56748046, 23573.65021491,\n",
       "       23653.08648446, 23707.77886718, 23999.05513688, 23717.71201178,\n",
       "       23763.27193364, 23661.18320319, 23653.08648446, 23664.95400399,\n",
       "       23650.26830089, 23190.93705087, 22797.31718746, 22753.65765621,\n",
       "       22797.31718746, 22753.65765621, 22797.31718746, 23281.52701175,\n",
       "       24659.52808601, 24175.4512307 , 25039.85664062, 25039.85664062,\n",
       "       24825.33650396, 25039.85664062, 24655.60271492, 24221.23947287,\n",
       "       23616.8575391 , 23654.3890821 , 23697.90814454, 23630.66173836,\n",
       "       23601.88125005, 23702.74078126, 23625.82910164, 23215.89667977,\n",
       "       23070.72298842, 23349.18880888, 23301.90869169, 23070.68138686,\n",
       "       22813.93632813, 22129.44789054, 19938.29791019, 20617.88447255,\n",
       "       22059.05912101, 23209.56580073, 25238.16994138, 24835.87572272,\n",
       "       25039.85664062, 26262.3358593 , 27654.18806646, 27948.3199805 ,\n",
       "       28467.5703711 , 28240.62564455, 28703.10640625, 28765.3046289 ,\n",
       "       28480.53324217, 28115.94167972, 28277.97367189, 27841.0537305 ,\n",
       "       27658.27044927, 28822.40365233, 29208.76541009, 29064.40509762,\n",
       "       29263.80789056, 28795.11925777, 28606.96619138, 28453.66718749,\n",
       "       29161.69207025, 28599.57765623, 28424.31367187, 28242.60277345,\n",
       "       28567.2523242 , 29341.27873042, 30000.36281239, 30096.43507798,\n",
       "       30057.93937488, 30362.86771467, 30268.96767563, 30148.89210922,\n",
       "       29983.68833969, 29932.29642567, 29820.55681632, 29247.81191399,\n",
       "       28569.63595701, 28066.98712894, 28172.44103518, 28069.763418  ,\n",
       "       28359.93013672, 29176.38191404, 29322.06908199, 29744.98376952,\n",
       "       29812.8137304 , 29812.8137304 , 29487.34888666, 29218.34689447,\n",
       "       29292.76394523, 29482.70320312, 29521.78791014, 29624.62085933,\n",
       "       29302.42789054, 29077.98705074, 28172.44103518, 28272.43509766,\n",
       "       27859.88755863, 27156.04212888, 27489.78095705, 27387.36900394,\n",
       "       27658.27044927, 27891.92265627, 27540.1267774 , 27722.57476567,\n",
       "       27583.84384768, 27784.18058596, 27691.58591799, 27295.97589846,\n",
       "       27756.41769536, 27747.56136721, 26800.42677731, 27214.66457035,\n",
       "       27234.09859377, 27872.99431644, 28670.2803906 , 28198.05441408,\n",
       "       28043.97402347, 27573.44224612, 27465.70017581, 28066.04177736,\n",
       "       27864.15976567, 27156.04212888, 26835.48863278, 27747.56136721,\n",
       "       27214.66457035, 27214.66457035, 26800.42677731, 26767.13361324,\n",
       "       26751.02416012, 26776.38761715, 26673.29576163, 26348.19365221,\n",
       "       26742.14789057, 27214.66457035, 27214.66457035, 27258.03386722,\n",
       "       27630.917793  , 29381.70566407, 30057.97197252, 30251.44111314,\n",
       "       30460.60197247, 30474.24460919, 30172.08630844, 30446.1651756 ,\n",
       "       30172.84214829, 30351.69935529, 30320.99462874, 30282.61031235,\n",
       "       30350.01874984, 30474.24460919, 30504.24408185, 30406.34953106,\n",
       "       30598.32865217, 30012.46486316, 30103.4175975 , 30103.4175975 ,\n",
       "       30351.69935529, 30474.24460919, 30405.59369121, 31097.07064443,\n",
       "       31006.86447249, 30137.53074204, 30148.89210922, 30050.96056626,\n",
       "       29986.47314444, 29969.14533196, 29969.14533196, 29920.80771478,\n",
       "       29961.08906243, 29972.18351551, 29812.25687496, 29563.00123045,\n",
       "       29812.8137304 , 29812.8137304 , 29812.8137304 , 29781.19628899,\n",
       "       29735.16277342, 29812.8137304 , 29677.97656249, 29750.89499999,\n",
       "       29563.00123045, 29548.56443358, 29527.67736326, 29527.67736326,\n",
       "       29466.70722655, 29700.5551562 , 29902.6466015 , 29833.1218554 ,\n",
       "       29833.28759759, 29833.1218554 , 29833.28759759, 29812.8137304 ,\n",
       "       29833.28759759, 29486.03511717, 28286.73033202, 26800.42677731,\n",
       "       26800.42677731, 27130.2318164 , 26800.42677731, 26775.06332028,\n",
       "       26800.42677731, 26800.42677731, 26800.42677731, 27104.86835937,\n",
       "       27080.82919921, 26800.42677731, 26784.64128909, 28118.71796878,\n",
       "       27362.14324217, 26744.54644527, 26593.27128904, 26741.77015621,\n",
       "       26751.02416012, 26593.27128904, 26593.27128904, 26767.13361324,\n",
       "       26800.42677731, 26602.52529295, 26602.52529295, 26583.1123632 ,\n",
       "       26718.71042953, 26767.13361324, 27214.66457035, 27214.66457035,\n",
       "       27214.66457035, 27214.66457035, 27249.70412117, 27472.19720709,\n",
       "       27891.92265627, 27573.44224612, 27214.66457035, 27214.66457035,\n",
       "       27214.66457035, 27130.2318164 , 27234.09859377, 27214.66457035,\n",
       "       27283.01958989, 27691.58591799, 27891.92265627, 27807.08007817,\n",
       "       28527.36365233, 28153.27191409, 28153.27191409, 28123.4864844 ])"
      ]
     },
     "execution_count": 4,
     "metadata": {},
     "output_type": "execute_result"
    }
   ],
   "source": [
    "randomforest_predictions"
   ]
  },
  {
   "cell_type": "code",
   "execution_count": 5,
   "id": "8362818d",
   "metadata": {},
   "outputs": [],
   "source": [
    "from itertools import product\n",
    "\n",
    "def create_mask_arrays(k):\n",
    "    mask = np.array(list(product(range(2), repeat = k)))\n",
    "    mask = mask[~np.all(mask== 0, axis=1)]\n",
    "    mask = mask[~np.all(mask== 1, axis=1)]\n",
    "    return mask"
   ]
  },
  {
   "cell_type": "code",
   "execution_count": 6,
   "id": "6e83ef05",
   "metadata": {},
   "outputs": [
    {
     "data": {
      "text/plain": [
       "array([[0, 0, 0, 1],\n",
       "       [0, 0, 1, 0],\n",
       "       [0, 0, 1, 1],\n",
       "       [0, 1, 0, 0],\n",
       "       [0, 1, 0, 1],\n",
       "       [0, 1, 1, 0],\n",
       "       [0, 1, 1, 1],\n",
       "       [1, 0, 0, 0],\n",
       "       [1, 0, 0, 1],\n",
       "       [1, 0, 1, 0],\n",
       "       [1, 0, 1, 1],\n",
       "       [1, 1, 0, 0],\n",
       "       [1, 1, 0, 1],\n",
       "       [1, 1, 1, 0]])"
      ]
     },
     "execution_count": 6,
     "metadata": {},
     "output_type": "execute_result"
    }
   ],
   "source": [
    "create_mask_arrays(4)"
   ]
  },
  {
   "cell_type": "code",
   "execution_count": 7,
   "id": "711a3e65",
   "metadata": {},
   "outputs": [],
   "source": [
    "from scipy.special import comb\n",
    "def calculate_weight(mask_row):\n",
    "    m=no_of_features=len(mask_row)\n",
    "    z=no_of_masked_feature=np.sum(mask_row)\n",
    "    \n",
    "    weight = (m-1) / ( comb(m,z)*z*(m-z))\n",
    "    return weight"
   ]
  },
  {
   "cell_type": "code",
   "execution_count": 8,
   "id": "d425b323",
   "metadata": {},
   "outputs": [
    {
     "data": {
      "text/plain": [
       "0.25"
      ]
     },
     "execution_count": 8,
     "metadata": {},
     "output_type": "execute_result"
    }
   ],
   "source": [
    "calculate_weight([0,1,1,1])"
   ]
  },
  {
   "cell_type": "code",
   "execution_count": 9,
   "id": "6a3a52a7",
   "metadata": {},
   "outputs": [],
   "source": [
    "mean_ref_array = X.mean()"
   ]
  },
  {
   "cell_type": "code",
   "execution_count": 10,
   "id": "5059fe4c",
   "metadata": {},
   "outputs": [
    {
     "data": {
      "text/plain": [
       "open      1.444312e+04\n",
       "high      1.478558e+04\n",
       "low       1.406841e+04\n",
       "volume    1.701341e+10\n",
       "dtype: float64"
      ]
     },
     "execution_count": 10,
     "metadata": {},
     "output_type": "execute_result"
    }
   ],
   "source": [
    "mean_ref_array"
   ]
  },
  {
   "cell_type": "code",
   "execution_count": 11,
   "id": "0ebeed65",
   "metadata": {},
   "outputs": [
    {
     "data": {
      "text/html": [
       "<div>\n",
       "<style scoped>\n",
       "    .dataframe tbody tr th:only-of-type {\n",
       "        vertical-align: middle;\n",
       "    }\n",
       "\n",
       "    .dataframe tbody tr th {\n",
       "        vertical-align: top;\n",
       "    }\n",
       "\n",
       "    .dataframe thead th {\n",
       "        text-align: right;\n",
       "    }\n",
       "</style>\n",
       "<table border=\"1\" class=\"dataframe\">\n",
       "  <thead>\n",
       "    <tr style=\"text-align: right;\">\n",
       "      <th></th>\n",
       "      <th>open</th>\n",
       "      <th>high</th>\n",
       "      <th>low</th>\n",
       "      <th>volume</th>\n",
       "    </tr>\n",
       "  </thead>\n",
       "  <tbody>\n",
       "    <tr>\n",
       "      <th>2666</th>\n",
       "      <td>46458.851563</td>\n",
       "      <td>47406.546875</td>\n",
       "      <td>45752.464844</td>\n",
       "      <td>42494677905</td>\n",
       "    </tr>\n",
       "  </tbody>\n",
       "</table>\n",
       "</div>"
      ],
      "text/plain": [
       "              open          high           low       volume\n",
       "2666  46458.851563  47406.546875  45752.464844  42494677905"
      ]
     },
     "execution_count": 11,
     "metadata": {},
     "output_type": "execute_result"
    }
   ],
   "source": [
    "instance_to_explain = X_test.iloc[0:1]\n",
    "instance_to_explain"
   ]
  },
  {
   "cell_type": "code",
   "execution_count": 13,
   "id": "c993ec2c",
   "metadata": {},
   "outputs": [
    {
     "name": "stdout",
     "output_type": "stream",
     "text": [
      "this?: [46459.3110158]\n"
     ]
    }
   ],
   "source": [
    "print(\"this?:\",randomforest_model.predict(instance_to_explain))"
   ]
  },
  {
   "cell_type": "code",
   "execution_count": 14,
   "id": "b1aad39f",
   "metadata": {},
   "outputs": [
    {
     "data": {
      "text/plain": [
       "Index(['open', 'high', 'low', 'volume'], dtype='object')"
      ]
     },
     "execution_count": 14,
     "metadata": {},
     "output_type": "execute_result"
    }
   ],
   "source": [
    "X.columns"
   ]
  },
  {
   "cell_type": "code",
   "execution_count": 15,
   "id": "945af5e9",
   "metadata": {},
   "outputs": [
    {
     "data": {
      "text/plain": [
       "array([[0, 0, 0, 1],\n",
       "       [0, 0, 1, 0],\n",
       "       [0, 0, 1, 1],\n",
       "       [0, 1, 0, 0],\n",
       "       [0, 1, 0, 1],\n",
       "       [0, 1, 1, 0],\n",
       "       [0, 1, 1, 1],\n",
       "       [1, 0, 0, 0],\n",
       "       [1, 0, 0, 1],\n",
       "       [1, 0, 1, 0],\n",
       "       [1, 0, 1, 1],\n",
       "       [1, 1, 0, 0],\n",
       "       [1, 1, 0, 1],\n",
       "       [1, 1, 1, 0]])"
      ]
     },
     "execution_count": 15,
     "metadata": {},
     "output_type": "execute_result"
    }
   ],
   "source": [
    "mask = create_mask_arrays(len(X.columns))\n",
    "mask\n"
   ]
  },
  {
   "cell_type": "code",
   "execution_count": 16,
   "id": "393223a3",
   "metadata": {},
   "outputs": [
    {
     "name": "stdout",
     "output_type": "stream",
     "text": [
      "[[0.00000000e+00 0.00000000e+00 0.00000000e+00 4.24946779e+10]\n",
      " [0.00000000e+00 0.00000000e+00 4.57524648e+04 0.00000000e+00]\n",
      " [0.00000000e+00 0.00000000e+00 4.57524648e+04 4.24946779e+10]\n",
      " [0.00000000e+00 4.74065469e+04 0.00000000e+00 0.00000000e+00]\n",
      " [0.00000000e+00 4.74065469e+04 0.00000000e+00 4.24946779e+10]\n",
      " [0.00000000e+00 4.74065469e+04 4.57524648e+04 0.00000000e+00]\n",
      " [0.00000000e+00 4.74065469e+04 4.57524648e+04 4.24946779e+10]\n",
      " [4.64588516e+04 0.00000000e+00 0.00000000e+00 0.00000000e+00]\n",
      " [4.64588516e+04 0.00000000e+00 0.00000000e+00 4.24946779e+10]\n",
      " [4.64588516e+04 0.00000000e+00 4.57524648e+04 0.00000000e+00]\n",
      " [4.64588516e+04 0.00000000e+00 4.57524648e+04 4.24946779e+10]\n",
      " [4.64588516e+04 4.74065469e+04 0.00000000e+00 0.00000000e+00]\n",
      " [4.64588516e+04 4.74065469e+04 0.00000000e+00 4.24946779e+10]\n",
      " [4.64588516e+04 4.74065469e+04 4.57524648e+04 0.00000000e+00]]\n",
      "-000-\n",
      "              open          high           low       volume\n",
      "2666  46458.851563  47406.546875  45752.464844  42494677905\n"
     ]
    }
   ],
   "source": [
    "S_with_zero = mask*instance_to_explain.values\n",
    "print(S_with_zero)\n",
    "print(\"-000-\")\n",
    "print(instance_to_explain)"
   ]
  },
  {
   "cell_type": "code",
   "execution_count": 17,
   "id": "dd71b711",
   "metadata": {},
   "outputs": [
    {
     "name": "stdout",
     "output_type": "stream",
     "text": [
      "[[1.44431181e+04 1.47855769e+04 1.40684074e+04 4.24946779e+10]\n",
      " [1.44431181e+04 1.47855769e+04 4.57524648e+04 1.70134134e+10]\n",
      " [1.44431181e+04 1.47855769e+04 4.57524648e+04 4.24946779e+10]\n",
      " [1.44431181e+04 4.74065469e+04 1.40684074e+04 1.70134134e+10]\n",
      " [1.44431181e+04 4.74065469e+04 1.40684074e+04 4.24946779e+10]\n",
      " [1.44431181e+04 4.74065469e+04 4.57524648e+04 1.70134134e+10]\n",
      " [1.44431181e+04 4.74065469e+04 4.57524648e+04 4.24946779e+10]\n",
      " [4.64588516e+04 1.47855769e+04 1.40684074e+04 1.70134134e+10]\n",
      " [4.64588516e+04 1.47855769e+04 1.40684074e+04 4.24946779e+10]\n",
      " [4.64588516e+04 1.47855769e+04 4.57524648e+04 1.70134134e+10]\n",
      " [4.64588516e+04 1.47855769e+04 4.57524648e+04 4.24946779e+10]\n",
      " [4.64588516e+04 4.74065469e+04 1.40684074e+04 1.70134134e+10]\n",
      " [4.64588516e+04 4.74065469e+04 1.40684074e+04 4.24946779e+10]\n",
      " [4.64588516e+04 4.74065469e+04 4.57524648e+04 1.70134134e+10]]\n"
     ]
    }
   ],
   "source": [
    "S_full = (S_with_zero == 0)*mean_ref_array.values + S_with_zero \n",
    "print(S_full)"
   ]
  },
  {
   "cell_type": "code",
   "execution_count": 18,
   "id": "9f2f8f99",
   "metadata": {},
   "outputs": [
    {
     "data": {
      "text/plain": [
       "0.25"
      ]
     },
     "execution_count": 18,
     "metadata": {},
     "output_type": "execute_result"
    }
   ],
   "source": [
    "calculate_weight([0,1,0,0])"
   ]
  },
  {
   "cell_type": "code",
   "execution_count": 19,
   "id": "7d88d732",
   "metadata": {},
   "outputs": [
    {
     "data": {
      "text/plain": [
       "array([0.25 , 0.25 , 0.125, 0.25 , 0.125, 0.125, 0.25 , 0.25 , 0.125,\n",
       "       0.125, 0.25 , 0.125, 0.25 , 0.25 ])"
      ]
     },
     "execution_count": 19,
     "metadata": {},
     "output_type": "execute_result"
    }
   ],
   "source": [
    "weights = np.apply_along_axis(calculate_weight, 1, mask)\n",
    "weights"
   ]
  },
  {
   "cell_type": "code",
   "execution_count": 21,
   "id": "7fc10c6d",
   "metadata": {},
   "outputs": [
    {
     "name": "stdout",
     "output_type": "stream",
     "text": [
      "Our mean model predicts [14515.61816398] and prediction for the instance we want to explain is: [46459.3110158]\n"
     ]
    }
   ],
   "source": [
    "# Convert Series to NumPy arrays\n",
    "mean_ref_array_np = mean_ref_array.to_numpy()\n",
    "instance_to_explain_np = instance_to_explain.to_numpy()\n",
    "\n",
    "# Reshape the arrays to have the correct shape\n",
    "mean_ref_array_reshaped = mean_ref_array_np.reshape(1, -1)\n",
    "instance_to_explain_reshaped = instance_to_explain_np.reshape(1, -1)\n",
    "\n",
    "# Predict using the trained Random Forest model\n",
    "mean_ref_prediction = randomforest_model.predict(mean_ref_array_reshaped)\n",
    "instance_prediction = randomforest_model.predict(instance_to_explain_reshaped)\n",
    "\n",
    "print(\"Our mean model predicts\", mean_ref_prediction, \"and prediction for the instance we want to explain is:\", instance_prediction)\n"
   ]
  },
  {
   "cell_type": "code",
   "execution_count": 23,
   "id": "754025c7",
   "metadata": {},
   "outputs": [
    {
     "name": "stdout",
     "output_type": "stream",
     "text": [
      "Our Shapley values are: [ 7593.44120766 12687.99777846 11071.79329602  -402.50168617]\n"
     ]
    }
   ],
   "source": [
    "\n",
    "X = mask \n",
    "y = randomforest_model.predict(S_full) \n",
    "B0 = randomforest_model.predict(mean_ref_array_reshaped)[0]\n",
    "W = np.diag(weights) \n",
    "y = y - B0 \n",
    "B = np.dot(np.linalg.inv(np.dot(np.dot(X.transpose(),W),X)), np.dot(np.dot(X.transpose(),W),y)) \n",
    "print(\"Our Shapley values are:\", B)"
   ]
  },
  {
   "cell_type": "code",
   "execution_count": 26,
   "id": "6ae88cf0",
   "metadata": {},
   "outputs": [
    {
     "data": {
      "text/plain": [
       "array([   78.26613288, 10463.65259778, 10448.24875992, 11237.51504901,\n",
       "       11157.59667986, 23167.52820336, 22984.69017604,  5472.24718748,\n",
       "        5445.62707033, 18700.74893565, 18555.66276379, 21202.29632824,\n",
       "       21024.96610362, 32429.93789087])"
      ]
     },
     "execution_count": 26,
     "metadata": {},
     "output_type": "execute_result"
    }
   ],
   "source": [
    "y"
   ]
  },
  {
   "cell_type": "code",
   "execution_count": 24,
   "id": "47125c88",
   "metadata": {},
   "outputs": [
    {
     "ename": "NameError",
     "evalue": "name 'x' is not defined",
     "output_type": "error",
     "traceback": [
      "\u001b[1;31m---------------------------------------------------------------------------\u001b[0m",
      "\u001b[1;31mNameError\u001b[0m                                 Traceback (most recent call last)",
      "\u001b[1;32m~\\AppData\\Local\\Temp/ipykernel_8220/2250667251.py\u001b[0m in \u001b[0;36m<module>\u001b[1;34m\u001b[0m\n\u001b[0;32m      4\u001b[0m \u001b[1;33m\u001b[0m\u001b[0m\n\u001b[0;32m      5\u001b[0m \u001b[1;31m# Ensure that x remains a DataFrame\u001b[0m\u001b[1;33m\u001b[0m\u001b[1;33m\u001b[0m\u001b[0m\n\u001b[1;32m----> 6\u001b[1;33m \u001b[1;32mif\u001b[0m \u001b[1;32mnot\u001b[0m \u001b[0misinstance\u001b[0m\u001b[1;33m(\u001b[0m\u001b[0mx\u001b[0m\u001b[1;33m,\u001b[0m \u001b[0mpd\u001b[0m\u001b[1;33m.\u001b[0m\u001b[0mDataFrame\u001b[0m\u001b[1;33m)\u001b[0m\u001b[1;33m:\u001b[0m\u001b[1;33m\u001b[0m\u001b[1;33m\u001b[0m\u001b[0m\n\u001b[0m\u001b[0;32m      7\u001b[0m     \u001b[0mx\u001b[0m \u001b[1;33m=\u001b[0m \u001b[0mpd\u001b[0m\u001b[1;33m.\u001b[0m\u001b[0mDataFrame\u001b[0m\u001b[1;33m(\u001b[0m\u001b[0mx\u001b[0m\u001b[1;33m,\u001b[0m \u001b[0mcolumns\u001b[0m\u001b[1;33m=\u001b[0m\u001b[1;33m[\u001b[0m\u001b[1;34m'High'\u001b[0m\u001b[1;33m,\u001b[0m \u001b[1;34m'Low'\u001b[0m\u001b[1;33m,\u001b[0m \u001b[1;34m'Open'\u001b[0m\u001b[1;33m,\u001b[0m \u001b[1;34m'Volume'\u001b[0m\u001b[1;33m]\u001b[0m\u001b[1;33m)\u001b[0m  \u001b[1;31m# Replace 'column1', 'column2', ... with actual column names\u001b[0m\u001b[1;33m\u001b[0m\u001b[1;33m\u001b[0m\u001b[0m\n\u001b[0;32m      8\u001b[0m \u001b[1;33m\u001b[0m\u001b[0m\n",
      "\u001b[1;31mNameError\u001b[0m: name 'x' is not defined"
     ]
    }
   ],
   "source": [
    "import pandas as pd\n",
    "\n",
    "# Assuming x is your DataFrame and B is your NumPy array\n",
    "\n",
    "# Ensure that x remains a DataFrame\n",
    "if not isinstance(x, pd.DataFrame):\n",
    "    x = pd.DataFrame(x, columns=['High', 'Low', 'Open', 'Volume'])  # Replace 'column1', 'column2', ... with actual column names\n",
    "\n",
    "# Get the column names from your DataFrame x\n",
    "column_names = x.columns.tolist()\n",
    "\n",
    "# Check if the number of columns in x matches the number of values in B\n",
    "if len(column_names) != len(B):\n",
    "    raise ValueError(\"Number of columns in x does not match the number of values in B\")\n",
    "\n",
    "# Create a DataFrame with values from B and column names from x\n",
    "shapley_df = pd.DataFrame([B], columns=column_names)\n",
    "\n",
    "# Print the DataFrame\n",
    "print(shapley_df)\n"
   ]
  },
  {
   "cell_type": "code",
   "execution_count": 25,
   "id": "505cbd6a",
   "metadata": {},
   "outputs": [
    {
     "ename": "NameError",
     "evalue": "name 'X_test_processed' is not defined",
     "output_type": "error",
     "traceback": [
      "\u001b[1;31m---------------------------------------------------------------------------\u001b[0m",
      "\u001b[1;31mNameError\u001b[0m                                 Traceback (most recent call last)",
      "\u001b[1;32m~\\AppData\\Local\\Temp/ipykernel_8220/2524866862.py\u001b[0m in \u001b[0;36m<module>\u001b[1;34m\u001b[0m\n\u001b[0;32m      2\u001b[0m \u001b[1;33m\u001b[0m\u001b[0m\n\u001b[0;32m      3\u001b[0m \u001b[1;31m# Summarize the background data using shap.sample\u001b[0m\u001b[1;33m\u001b[0m\u001b[1;33m\u001b[0m\u001b[0m\n\u001b[1;32m----> 4\u001b[1;33m \u001b[0mbackground_summary\u001b[0m \u001b[1;33m=\u001b[0m \u001b[0mshap\u001b[0m\u001b[1;33m.\u001b[0m\u001b[0msample\u001b[0m\u001b[1;33m(\u001b[0m\u001b[0mX_test_processed\u001b[0m\u001b[1;33m,\u001b[0m \u001b[1;36m100\u001b[0m\u001b[1;33m)\u001b[0m\u001b[1;33m\u001b[0m\u001b[1;33m\u001b[0m\u001b[0m\n\u001b[0m\u001b[0;32m      5\u001b[0m \u001b[1;33m\u001b[0m\u001b[0m\n\u001b[0;32m      6\u001b[0m \u001b[1;31m# Create the SHAP explainer with the summarized background data\u001b[0m\u001b[1;33m\u001b[0m\u001b[1;33m\u001b[0m\u001b[0m\n",
      "\u001b[1;31mNameError\u001b[0m: name 'X_test_processed' is not defined"
     ]
    }
   ],
   "source": [
    "import shap\n",
    "\n",
    "# Summarize the background data using shap.sample\n",
    "background_summary = shap.sample(X_test_processed, 100)\n",
    "\n",
    "# Create the SHAP explainer with the summarized background data\n",
    "explainer = shap.KernelExplainer(model.predict, background_summary, link=\"logit\", algorithm=\"linear\")\n",
    "\n",
    "# Compute SHAP values\n",
    "shap_values = explainer.shap_values(X_test_processed, nsamples=100)\n"
   ]
  },
  {
   "cell_type": "code",
   "execution_count": 4,
   "id": "0f317b5a",
   "metadata": {},
   "outputs": [
    {
     "ename": "NameError",
     "evalue": "name 'shap' is not defined",
     "output_type": "error",
     "traceback": [
      "\u001b[1;31m---------------------------------------------------------------------------\u001b[0m",
      "\u001b[1;31mNameError\u001b[0m                                 Traceback (most recent call last)",
      "\u001b[1;32m~\\AppData\\Local\\Temp/ipykernel_17348/3008388025.py\u001b[0m in \u001b[0;36m<module>\u001b[1;34m\u001b[0m\n\u001b[1;32m----> 1\u001b[1;33m \u001b[0mshap\u001b[0m\u001b[1;33m.\u001b[0m\u001b[0minitjs\u001b[0m\u001b[1;33m(\u001b[0m\u001b[1;33m)\u001b[0m\u001b[1;33m\u001b[0m\u001b[1;33m\u001b[0m\u001b[0m\n\u001b[0m\u001b[0;32m      2\u001b[0m shap.force_plot(explainer.expected_value, shap_values[0], \n\u001b[0;32m      3\u001b[0m                               instance_to_explain, link=\"logit\")\n",
      "\u001b[1;31mNameError\u001b[0m: name 'shap' is not defined"
     ]
    }
   ],
   "source": [
    "shap.initjs() \n",
    "shap.force_plot(explainer.expected_value, shap_values[0], \n",
    "                              instance_to_explain, link=\"logit\")"
   ]
  },
  {
   "cell_type": "code",
   "execution_count": null,
   "id": "71ce0f9d",
   "metadata": {},
   "outputs": [],
   "source": []
  }
 ],
 "metadata": {
  "kernelspec": {
   "display_name": "Python 3 (ipykernel)",
   "language": "python",
   "name": "python3"
  },
  "language_info": {
   "codemirror_mode": {
    "name": "ipython",
    "version": 3
   },
   "file_extension": ".py",
   "mimetype": "text/x-python",
   "name": "python",
   "nbconvert_exporter": "python",
   "pygments_lexer": "ipython3",
   "version": "3.9.7"
  }
 },
 "nbformat": 4,
 "nbformat_minor": 5
}
